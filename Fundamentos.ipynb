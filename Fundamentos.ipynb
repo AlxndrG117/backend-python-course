{
 "cells": [
  {
   "cell_type": "markdown",
   "id": "04e0c2ce",
   "metadata": {},
   "source": [
    "## Python distinguish beetwen lower and upper caps"
   ]
  },
  {
   "cell_type": "code",
   "execution_count": 3,
   "id": "4355bdbb",
   "metadata": {},
   "outputs": [
    {
     "name": "stdout",
     "output_type": "stream",
     "text": [
      "The course is:  Backend Pyton\n"
     ]
    }
   ],
   "source": [
    " A = \"Backend Pyton\"\n",
    "print(\"The course is: \",A)"
   ]
  },
  {
   "cell_type": "code",
   "execution_count": 4,
   "id": "3942c09a",
   "metadata": {},
   "outputs": [
    {
     "ename": "NameError",
     "evalue": "name 'a' is not defined",
     "output_type": "error",
     "traceback": [
      "\u001b[0;31m---------------------------------------------------------------------------\u001b[0m",
      "\u001b[0;31mNameError\u001b[0m                                 Traceback (most recent call last)",
      "Cell \u001b[0;32mIn[4], line 2\u001b[0m\n\u001b[1;32m      1\u001b[0m A \u001b[38;5;241m=\u001b[39m \u001b[38;5;124m\"\u001b[39m\u001b[38;5;124mBackend Pyton\u001b[39m\u001b[38;5;124m\"\u001b[39m\n\u001b[0;32m----> 2\u001b[0m \u001b[38;5;28mprint\u001b[39m(\u001b[38;5;124m\"\u001b[39m\u001b[38;5;124mThe course is: \u001b[39m\u001b[38;5;124m\"\u001b[39m,a)\n",
      "\u001b[0;31mNameError\u001b[0m: name 'a' is not defined"
     ]
    }
   ],
   "source": [
    " A = \"Backend Pyton\"\n",
    "print(\"The course is: \",a)"
   ]
  },
  {
   "cell_type": "code",
   "execution_count": 5,
   "id": "4d78fa98",
   "metadata": {},
   "outputs": [
    {
     "name": "stdout",
     "output_type": "stream",
     "text": [
      "The course is:  Backend Pyton\n"
     ]
    }
   ],
   "source": [
    " a = \"Backend Pyton\"\n",
    "print(\"The course is: \",a)"
   ]
  },
  {
   "cell_type": "markdown",
   "id": "1c5ea80c",
   "metadata": {},
   "source": [
    "## Python Keywords"
   ]
  },
  {
   "cell_type": "code",
   "execution_count": 6,
   "id": "f8173072",
   "metadata": {},
   "outputs": [
    {
     "name": "stdout",
     "output_type": "stream",
     "text": [
      "\n",
      "Here is a list of the Python keywords.  Enter any keyword to get more help.\n",
      "\n",
      "False               class               from                or\n",
      "None                continue            global              pass\n",
      "True                def                 if                  raise\n",
      "and                 del                 import              return\n",
      "as                  elif                in                  try\n",
      "assert              else                is                  while\n",
      "async               except              lambda              with\n",
      "await               finally             nonlocal            yield\n",
      "break               for                 not                 \n",
      "\n"
     ]
    }
   ],
   "source": [
    "help(\"keywords\")"
   ]
  },
  {
   "cell_type": "markdown",
   "id": "bdf8c3f8",
   "metadata": {},
   "source": [
    "## Scape Words in Python"
   ]
  },
  {
   "cell_type": "code",
   "execution_count": 9,
   "id": "3d8860a5",
   "metadata": {},
   "outputs": [
    {
     "data": {
      "text/plain": [
       "\"'\""
      ]
     },
     "execution_count": 9,
     "metadata": {},
     "output_type": "execute_result"
    }
   ],
   "source": [
    "\"\\'\" # Single Quote / Comilla Sencila"
   ]
  },
  {
   "cell_type": "code",
   "execution_count": 10,
   "id": "a6b49e1a",
   "metadata": {},
   "outputs": [
    {
     "data": {
      "text/plain": [
       "\"'\""
      ]
     },
     "execution_count": 10,
     "metadata": {},
     "output_type": "execute_result"
    }
   ],
   "source": [
    "\"'\""
   ]
  },
  {
   "cell_type": "code",
   "execution_count": 11,
   "id": "b7a39ee9",
   "metadata": {},
   "outputs": [
    {
     "data": {
      "text/plain": [
       "\"'\""
      ]
     },
     "execution_count": 11,
     "metadata": {},
     "output_type": "execute_result"
    }
   ],
   "source": [
    "'\\''"
   ]
  },
  {
   "cell_type": "code",
   "execution_count": 12,
   "id": "1be97d7b",
   "metadata": {},
   "outputs": [
    {
     "ename": "SyntaxError",
     "evalue": "incomplete input (3857640367.py, line 1)",
     "output_type": "error",
     "traceback": [
      "\u001b[0;36m  Cell \u001b[0;32mIn[12], line 1\u001b[0;36m\u001b[0m\n\u001b[0;31m    '''\u001b[0m\n\u001b[0m    ^\u001b[0m\n\u001b[0;31mSyntaxError\u001b[0m\u001b[0;31m:\u001b[0m incomplete input\n"
     ]
    }
   ],
   "source": [
    "''' # Error"
   ]
  },
  {
   "cell_type": "code",
   "execution_count": 14,
   "id": "781cc962",
   "metadata": {},
   "outputs": [
    {
     "data": {
      "text/plain": [
       "'\"'"
      ]
     },
     "execution_count": 14,
     "metadata": {},
     "output_type": "execute_result"
    }
   ],
   "source": [
    "\"\\\"\" # Double Quote / Comilla Doble"
   ]
  },
  {
   "cell_type": "code",
   "execution_count": 15,
   "id": "c7adfd6e",
   "metadata": {},
   "outputs": [
    {
     "ename": "SyntaxError",
     "evalue": "incomplete input (969763094.py, line 1)",
     "output_type": "error",
     "traceback": [
      "\u001b[0;36m  Cell \u001b[0;32mIn[15], line 1\u001b[0;36m\u001b[0m\n\u001b[0;31m    \"\"\"\u001b[0m\n\u001b[0m    ^\u001b[0m\n\u001b[0;31mSyntaxError\u001b[0m\u001b[0;31m:\u001b[0m incomplete input\n"
     ]
    }
   ],
   "source": [
    "\"\"\" # Error"
   ]
  },
  {
   "cell_type": "code",
   "execution_count": 16,
   "id": "6ca66a93",
   "metadata": {},
   "outputs": [
    {
     "data": {
      "text/plain": [
       "'\\n'"
      ]
     },
     "execution_count": 16,
     "metadata": {},
     "output_type": "execute_result"
    }
   ],
   "source": [
    "\"\\n\" # New Line / Salto de Línea"
   ]
  },
  {
   "cell_type": "code",
   "execution_count": 17,
   "id": "9206d895",
   "metadata": {},
   "outputs": [
    {
     "name": "stdout",
     "output_type": "stream",
     "text": [
      "Backend Python De EBAC\n"
     ]
    }
   ],
   "source": [
    "my_course = \"Backend Python De EBAC\"\n",
    "print (my_course)"
   ]
  },
  {
   "cell_type": "code",
   "execution_count": 18,
   "id": "884e0e16",
   "metadata": {},
   "outputs": [
    {
     "name": "stdout",
     "output_type": "stream",
     "text": [
      "Backend Python\n",
      "De EBAC\n"
     ]
    }
   ],
   "source": [
    "my_course = \"Backend Python\\nDe EBAC\"\n",
    "print (my_course)"
   ]
  },
  {
   "cell_type": "code",
   "execution_count": 19,
   "id": "c87829b6",
   "metadata": {},
   "outputs": [
    {
     "name": "stdout",
     "output_type": "stream",
     "text": [
      "Backend\n",
      "Python\n",
      "De EBAC\n"
     ]
    }
   ],
   "source": [
    "my_course = \"Backend\\nPython\\nDe EBAC\"\n",
    "print (my_course)"
   ]
  },
  {
   "cell_type": "code",
   "execution_count": 20,
   "id": "7f83eccd",
   "metadata": {},
   "outputs": [
    {
     "data": {
      "text/plain": [
       "'\\t'"
      ]
     },
     "execution_count": 20,
     "metadata": {},
     "output_type": "execute_result"
    }
   ],
   "source": [
    "\"\\t\" # Tab"
   ]
  },
  {
   "cell_type": "code",
   "execution_count": 21,
   "id": "02557d96",
   "metadata": {},
   "outputs": [
    {
     "name": "stdout",
     "output_type": "stream",
     "text": [
      "Backend Python De EBAC\n"
     ]
    }
   ],
   "source": [
    "my_course = \"Backend Python De EBAC\"\n",
    "print (my_course)"
   ]
  },
  {
   "cell_type": "code",
   "execution_count": 22,
   "id": "902f2f0f",
   "metadata": {},
   "outputs": [
    {
     "name": "stdout",
     "output_type": "stream",
     "text": [
      "Backend Python\tDe EBAC\n"
     ]
    }
   ],
   "source": [
    "my_course = \"Backend Python\\tDe EBAC\"\n",
    "print (my_course)"
   ]
  },
  {
   "cell_type": "code",
   "execution_count": 23,
   "id": "988faa53",
   "metadata": {},
   "outputs": [
    {
     "name": "stdout",
     "output_type": "stream",
     "text": [
      "Backend\tPython\tDe EBAC\n"
     ]
    }
   ],
   "source": [
    "my_course = \"Backend\\tPython\\tDe EBAC\"\n",
    "print (my_course)"
   ]
  },
  {
   "cell_type": "code",
   "execution_count": 24,
   "id": "78ff0c11",
   "metadata": {},
   "outputs": [
    {
     "name": "stdout",
     "output_type": "stream",
     "text": [
      "Backend\tPython\tDe\tEBAC\n"
     ]
    }
   ],
   "source": [
    "my_course = \"Backend\\tPython\\tDe\\tEBAC\"\n",
    "print (my_course)"
   ]
  },
  {
   "cell_type": "code",
   "execution_count": 25,
   "id": "db6f2a72",
   "metadata": {},
   "outputs": [
    {
     "name": "stdout",
     "output_type": "stream",
     "text": [
      "Backend\t\tPython\tDe\tEBAC\n"
     ]
    }
   ],
   "source": [
    "my_course = \"Backend\\t\\tPython\\tDe\\tEBAC\"\n",
    "print (my_course)"
   ]
  },
  {
   "cell_type": "code",
   "execution_count": 26,
   "id": "af25ebf7",
   "metadata": {},
   "outputs": [
    {
     "data": {
      "text/plain": [
       "'\\r'"
      ]
     },
     "execution_count": 26,
     "metadata": {},
     "output_type": "execute_result"
    }
   ],
   "source": [
    "\"\\r\" # Carriage Return / Retorno de Carro"
   ]
  },
  {
   "cell_type": "code",
   "execution_count": 27,
   "id": "cb6aa6d4",
   "metadata": {},
   "outputs": [
    {
     "name": "stdout",
     "output_type": "stream",
     "text": [
      "Backend\r",
      "Python De EBAC\n"
     ]
    }
   ],
   "source": [
    "my_course = \"Backend\\rPython De EBAC\"\n",
    "print (my_course)"
   ]
  },
  {
   "cell_type": "code",
   "execution_count": 28,
   "id": "49fcc59f",
   "metadata": {},
   "outputs": [
    {
     "name": "stdout",
     "output_type": "stream",
     "text": [
      "Backend\r",
      "Python\r",
      "De EBAC\n"
     ]
    }
   ],
   "source": [
    "my_course = \"Backend\\rPython\\rDe EBAC\"\n",
    "print (my_course)"
   ]
  },
  {
   "cell_type": "code",
   "execution_count": 29,
   "id": "140718f3",
   "metadata": {},
   "outputs": [
    {
     "name": "stdout",
     "output_type": "stream",
     "text": [
      "Backend Python\r",
      "De EBAC\n"
     ]
    }
   ],
   "source": [
    "my_course = \"Backend Python\\rDe EBAC\"\n",
    "print (my_course)"
   ]
  },
  {
   "cell_type": "code",
   "execution_count": 30,
   "id": "690c8eee",
   "metadata": {},
   "outputs": [
    {
     "data": {
      "text/plain": [
       "'\\x08'"
      ]
     },
     "execution_count": 30,
     "metadata": {},
     "output_type": "execute_result"
    }
   ],
   "source": [
    "\"\\b\" # Backspace/Retorno"
   ]
  },
  {
   "cell_type": "code",
   "execution_count": 31,
   "id": "5b60501a",
   "metadata": {},
   "outputs": [
    {
     "name": "stdout",
     "output_type": "stream",
     "text": [
      "Backend Python De EBAC\n"
     ]
    }
   ],
   "source": [
    "my_course = \"Backend Python De EBAC\"\n",
    "print (my_course)"
   ]
  },
  {
   "cell_type": "code",
   "execution_count": 32,
   "id": "c7e28b91",
   "metadata": {},
   "outputs": [
    {
     "name": "stdout",
     "output_type": "stream",
     "text": [
      "Backend\bPython De EBAC\n"
     ]
    }
   ],
   "source": [
    "my_course = \"Backend\\bPython De EBAC\"\n",
    "# Va a eliminar la 'd'\n",
    "print (my_course)"
   ]
  },
  {
   "cell_type": "code",
   "execution_count": 33,
   "id": "92ab1166",
   "metadata": {},
   "outputs": [
    {
     "name": "stdout",
     "output_type": "stream",
     "text": [
      "Backend\bPython\bDe EBAC\n"
     ]
    }
   ],
   "source": [
    "my_course = \"Backend\\bPython\\bDe EBAC\"\n",
    "# Va a eliminar la 'd' y la 'n'\n",
    "print (my_course)"
   ]
  },
  {
   "cell_type": "code",
   "execution_count": 34,
   "id": "a59c8271",
   "metadata": {},
   "outputs": [
    {
     "data": {
      "text/plain": [
       "'\\\\ooo'"
      ]
     },
     "execution_count": 34,
     "metadata": {},
     "output_type": "execute_result"
    }
   ],
   "source": [
    "\"\\ooo\" #Octal"
   ]
  },
  {
   "cell_type": "code",
   "execution_count": 35,
   "id": "dd0c1593",
   "metadata": {},
   "outputs": [
    {
     "name": "stdout",
     "output_type": "stream",
     "text": [
      "Hola\n"
     ]
    }
   ],
   "source": [
    "hello_spanish_octal = \"\\110\\157\\154\\141\"\n",
    "print(hello_spanish_octal)"
   ]
  },
  {
   "cell_type": "code",
   "execution_count": 36,
   "id": "4c044e16",
   "metadata": {},
   "outputs": [
    {
     "name": "stdout",
     "output_type": "stream",
     "text": [
      "Hallo\n"
     ]
    }
   ],
   "source": [
    "hello_dutch_octal = \"\\110\\141\\154\\154\\157\"\n",
    "print(hello_dutch_octal)"
   ]
  },
  {
   "cell_type": "code",
   "execution_count": 37,
   "id": "d73ae93f",
   "metadata": {},
   "outputs": [
    {
     "ename": "SyntaxError",
     "evalue": "(unicode error) 'unicodeescape' codec can't decode bytes in position 0-1: truncated \\xXX escape (1101981212.py, line 1)",
     "output_type": "error",
     "traceback": [
      "\u001b[0;36m  Cell \u001b[0;32mIn[37], line 1\u001b[0;36m\u001b[0m\n\u001b[0;31m    \"\\xhh\" #Hexadecimal\u001b[0m\n\u001b[0m           ^\u001b[0m\n\u001b[0;31mSyntaxError\u001b[0m\u001b[0;31m:\u001b[0m (unicode error) 'unicodeescape' codec can't decode bytes in position 0-1: truncated \\xXX escape\n"
     ]
    }
   ],
   "source": [
    "\"\\xhh\" #Hexadecimal"
   ]
  },
  {
   "cell_type": "code",
   "execution_count": 38,
   "id": "cdf37c16",
   "metadata": {},
   "outputs": [],
   "source": [
    "#\"\\xhh\" #Hexadecimal"
   ]
  },
  {
   "cell_type": "code",
   "execution_count": 39,
   "id": "2b8c99f4",
   "metadata": {},
   "outputs": [
    {
     "name": "stdout",
     "output_type": "stream",
     "text": [
      "Hola\n"
     ]
    }
   ],
   "source": [
    "hello_spanish_hex = \"\\x48\\x6f\\x6c\\x61\"\n",
    "print(hello_spanish_hex)"
   ]
  },
  {
   "cell_type": "markdown",
   "id": "b99eb780",
   "metadata": {},
   "source": [
    "## Función eval()"
   ]
  },
  {
   "cell_type": "code",
   "execution_count": 40,
   "id": "ebe0fb2a",
   "metadata": {},
   "outputs": [
    {
     "name": "stdout",
     "output_type": "stream",
     "text": [
      "my_number+1000\n"
     ]
    }
   ],
   "source": [
    "my_number = 22\n",
    "print(\"my_number+1000\")"
   ]
  },
  {
   "cell_type": "code",
   "execution_count": 41,
   "id": "36459c39",
   "metadata": {},
   "outputs": [
    {
     "name": "stdout",
     "output_type": "stream",
     "text": [
      "1022\n"
     ]
    }
   ],
   "source": [
    "my_number = 22\n",
    "print(eval(\"my_number+1000\"))"
   ]
  },
  {
   "cell_type": "code",
   "execution_count": 42,
   "id": "33a82cc2",
   "metadata": {},
   "outputs": [
    {
     "name": "stdout",
     "output_type": "stream",
     "text": [
      "Inresa un número: 123\n"
     ]
    }
   ],
   "source": [
    "my_input = input(\"Inresa un número: \")"
   ]
  },
  {
   "cell_type": "code",
   "execution_count": 43,
   "id": "b59a428c",
   "metadata": {},
   "outputs": [
    {
     "data": {
      "text/plain": [
       "'123'"
      ]
     },
     "execution_count": 43,
     "metadata": {},
     "output_type": "execute_result"
    }
   ],
   "source": [
    "my_input"
   ]
  },
  {
   "cell_type": "code",
   "execution_count": 44,
   "id": "91fc6b8a",
   "metadata": {},
   "outputs": [
    {
     "data": {
      "text/plain": [
       "123"
      ]
     },
     "execution_count": 44,
     "metadata": {},
     "output_type": "execute_result"
    }
   ],
   "source": [
    "eval(my_input)"
   ]
  },
  {
   "cell_type": "code",
   "execution_count": 45,
   "id": "8455404b",
   "metadata": {},
   "outputs": [
    {
     "name": "stdout",
     "output_type": "stream",
     "text": [
      "Inresa un número: 345\n",
      "345\n",
      "<class 'str'>\n"
     ]
    }
   ],
   "source": [
    "my_input = input(\"Inresa un número: \")\n",
    "print(my_input)\n",
    "print(type(my_input))\n",
    "# Cadena / String"
   ]
  },
  {
   "cell_type": "code",
   "execution_count": 46,
   "id": "53deebef",
   "metadata": {},
   "outputs": [
    {
     "name": "stdout",
     "output_type": "stream",
     "text": [
      "Inresa un número: 678\n",
      "678\n",
      "<class 'int'>\n"
     ]
    }
   ],
   "source": [
    "my_input = eval(input(\"Inresa un número: \"))\n",
    "print(my_input)\n",
    "print(type(my_input))\n",
    "# Entero / Int"
   ]
  },
  {
   "cell_type": "markdown",
   "id": "2c60e47d",
   "metadata": {},
   "source": [
    "## Función range() y xrange()"
   ]
  },
  {
   "cell_type": "markdown",
   "id": "cabfbff9",
   "metadata": {},
   "source": [
    "### range(start, top, step)"
   ]
  },
  {
   "cell_type": "code",
   "execution_count": 47,
   "id": "e9a89fe4",
   "metadata": {},
   "outputs": [],
   "source": [
    "x = range(10)"
   ]
  },
  {
   "cell_type": "code",
   "execution_count": 48,
   "id": "c25f2019",
   "metadata": {},
   "outputs": [
    {
     "data": {
      "text/plain": [
       "range(0, 10)"
      ]
     },
     "execution_count": 48,
     "metadata": {},
     "output_type": "execute_result"
    }
   ],
   "source": [
    "x"
   ]
  },
  {
   "cell_type": "code",
   "execution_count": 50,
   "id": "a66310ee",
   "metadata": {},
   "outputs": [
    {
     "name": "stdout",
     "output_type": "stream",
     "text": [
      "0\n",
      "1\n",
      "2\n",
      "3\n",
      "4\n",
      "5\n",
      "6\n",
      "7\n",
      "8\n",
      "9\n"
     ]
    }
   ],
   "source": [
    "for number in x:\n",
    "    print(number)"
   ]
  },
  {
   "cell_type": "code",
   "execution_count": 52,
   "id": "b37d4e12",
   "metadata": {},
   "outputs": [
    {
     "name": "stdout",
     "output_type": "stream",
     "text": [
      "3\n",
      "4\n",
      "5\n"
     ]
    }
   ],
   "source": [
    "x = range(3,6)\n",
    "for number in x:\n",
    "    print(number)"
   ]
  },
  {
   "cell_type": "code",
   "execution_count": 53,
   "id": "5490145d",
   "metadata": {},
   "outputs": [
    {
     "name": "stdout",
     "output_type": "stream",
     "text": [
      "3\n",
      "5\n",
      "7\n",
      "9\n",
      "11\n",
      "13\n",
      "15\n",
      "17\n",
      "19\n"
     ]
    }
   ],
   "source": [
    "x = range(3,20,2)\n",
    "for number in x:\n",
    "    print(number)"
   ]
  },
  {
   "cell_type": "code",
   "execution_count": 54,
   "id": "becc7fd5",
   "metadata": {},
   "outputs": [
    {
     "name": "stdout",
     "output_type": "stream",
     "text": [
      "3\n",
      "6\n",
      "9\n",
      "12\n",
      "15\n",
      "18\n",
      "21\n",
      "24\n",
      "27\n"
     ]
    }
   ],
   "source": [
    "x = range(3,30,3)\n",
    "for number in x:\n",
    "    print(number)"
   ]
  },
  {
   "cell_type": "markdown",
   "id": "e3bf758b",
   "metadata": {},
   "source": [
    "## Mutabilidad e Inmutabilidad"
   ]
  },
  {
   "cell_type": "code",
   "execution_count": 59,
   "id": "fb888405",
   "metadata": {},
   "outputs": [],
   "source": [
    "tuple1 = (1,2,3,4,5)"
   ]
  },
  {
   "cell_type": "code",
   "execution_count": 64,
   "id": "62c06f38",
   "metadata": {},
   "outputs": [
    {
     "data": {
      "text/plain": [
       "(1, 2, 3, 4, 5)"
      ]
     },
     "execution_count": 64,
     "metadata": {},
     "output_type": "execute_result"
    }
   ],
   "source": [
    "tuple1"
   ]
  },
  {
   "cell_type": "code",
   "execution_count": 63,
   "id": "8a856814",
   "metadata": {},
   "outputs": [
    {
     "ename": "TypeError",
     "evalue": "'tuple' object does not support item assignment",
     "output_type": "error",
     "traceback": [
      "\u001b[0;31m---------------------------------------------------------------------------\u001b[0m",
      "\u001b[0;31mTypeError\u001b[0m                                 Traceback (most recent call last)",
      "Cell \u001b[0;32mIn[63], line 2\u001b[0m\n\u001b[1;32m      1\u001b[0m \u001b[38;5;66;03m#Inmutabilidad\u001b[39;00m\n\u001b[0;32m----> 2\u001b[0m tuple1[\u001b[38;5;241m0\u001b[39m] \u001b[38;5;241m=\u001b[39m \u001b[38;5;241m10\u001b[39m\n",
      "\u001b[0;31mTypeError\u001b[0m: 'tuple' object does not support item assignment"
     ]
    }
   ],
   "source": [
    "#Inmutabilidad\n",
    "tuple1[0] = 10"
   ]
  },
  {
   "cell_type": "code",
   "execution_count": 62,
   "id": "a51d8c0f",
   "metadata": {},
   "outputs": [],
   "source": [
    "my_string = \"Aprendiendo sobre inmutabilidad\""
   ]
  },
  {
   "cell_type": "code",
   "execution_count": 66,
   "id": "86d65fea",
   "metadata": {},
   "outputs": [
    {
     "data": {
      "text/plain": [
       "'Aprendiendo sobre inmutabilidad'"
      ]
     },
     "execution_count": 66,
     "metadata": {},
     "output_type": "execute_result"
    }
   ],
   "source": [
    "my_string"
   ]
  },
  {
   "cell_type": "code",
   "execution_count": 68,
   "id": "95ead265",
   "metadata": {},
   "outputs": [
    {
     "ename": "TypeError",
     "evalue": "'str' object does not support item assignment",
     "output_type": "error",
     "traceback": [
      "\u001b[0;31m---------------------------------------------------------------------------\u001b[0m",
      "\u001b[0;31mTypeError\u001b[0m                                 Traceback (most recent call last)",
      "Cell \u001b[0;32mIn[68], line 1\u001b[0m\n\u001b[0;32m----> 1\u001b[0m my_string[\u001b[38;5;241m0\u001b[39m] \u001b[38;5;241m=\u001b[39m \u001b[38;5;124m\"\u001b[39m\u001b[38;5;124ma\u001b[39m\u001b[38;5;124m\"\u001b[39m\n",
      "\u001b[0;31mTypeError\u001b[0m: 'str' object does not support item assignment"
     ]
    }
   ],
   "source": [
    "my_string[0] = \"a\""
   ]
  },
  {
   "cell_type": "code",
   "execution_count": 70,
   "id": "3a59fa32",
   "metadata": {},
   "outputs": [],
   "source": [
    "colors = [\"rojo\", \"azul\", \"verde\", \"negro\"]"
   ]
  },
  {
   "cell_type": "code",
   "execution_count": 72,
   "id": "143da65b",
   "metadata": {},
   "outputs": [
    {
     "data": {
      "text/plain": [
       "['rojo', 'azul', 'verde', 'negro']"
      ]
     },
     "execution_count": 72,
     "metadata": {},
     "output_type": "execute_result"
    }
   ],
   "source": [
    "colors"
   ]
  },
  {
   "cell_type": "code",
   "execution_count": 74,
   "id": "808df71d",
   "metadata": {},
   "outputs": [],
   "source": [
    "colors[0] = \"blanco\""
   ]
  },
  {
   "cell_type": "code",
   "execution_count": 76,
   "id": "dc658942",
   "metadata": {},
   "outputs": [
    {
     "data": {
      "text/plain": [
       "['blanco', 'azul', 'verde', 'negro']"
      ]
     },
     "execution_count": 76,
     "metadata": {},
     "output_type": "execute_result"
    }
   ],
   "source": [
    "colors"
   ]
  },
  {
   "cell_type": "markdown",
   "id": "7e475e4a",
   "metadata": {},
   "source": [
    "## Función print()"
   ]
  },
  {
   "cell_type": "code",
   "execution_count": 77,
   "id": "e11d8b5a",
   "metadata": {},
   "outputs": [],
   "source": [
    "# mostrar un resultado"
   ]
  },
  {
   "cell_type": "code",
   "execution_count": 79,
   "id": "4828bf39",
   "metadata": {},
   "outputs": [
    {
     "name": "stdout",
     "output_type": "stream",
     "text": [
      "El valor de my_variable es:  567\n"
     ]
    }
   ],
   "source": [
    "my_variable = 567\n",
    "print(\"El valor de my_variable es: \", my_variable)"
   ]
  },
  {
   "cell_type": "code",
   "execution_count": 81,
   "id": "3b1c991d",
   "metadata": {},
   "outputs": [
    {
     "name": "stdout",
     "output_type": "stream",
     "text": [
      "El valor de d es:  800\n"
     ]
    }
   ],
   "source": [
    "a=100\n",
    "b=500\n",
    "c=200\n",
    "d=a+b+c\n",
    "print(\"El valor de d es: \", d)"
   ]
  },
  {
   "cell_type": "code",
   "execution_count": 82,
   "id": "1821bcbc",
   "metadata": {},
   "outputs": [],
   "source": [
    "import builtins"
   ]
  },
  {
   "cell_type": "code",
   "execution_count": 84,
   "id": "20e6577c",
   "metadata": {},
   "outputs": [
    {
     "name": "stdout",
     "output_type": "stream",
     "text": [
      "Help on built-in function print in module builtins:\n",
      "\n",
      "print(*args, sep=' ', end='\\n', file=None, flush=False)\n",
      "    Prints the values to a stream, or to sys.stdout by default.\n",
      "    \n",
      "    sep\n",
      "      string inserted between values, default a space.\n",
      "    end\n",
      "      string appended after the last value, default a newline.\n",
      "    file\n",
      "      a file-like object (stream); defaults to the current sys.stdout.\n",
      "    flush\n",
      "      whether to forcibly flush the stream.\n",
      "\n"
     ]
    }
   ],
   "source": [
    "help(builtins.print)"
   ]
  },
  {
   "cell_type": "code",
   "execution_count": 86,
   "id": "f382f2e6",
   "metadata": {},
   "outputs": [
    {
     "name": "stdout",
     "output_type": "stream",
     "text": [
      "Help on built-in function print in module builtins:\n",
      "\n",
      "print(*args, sep=' ', end='\\n', file=None, flush=False)\n",
      "    Prints the values to a stream, or to sys.stdout by default.\n",
      "    \n",
      "    sep\n",
      "      string inserted between values, default a space.\n",
      "    end\n",
      "      string appended after the last value, default a newline.\n",
      "    file\n",
      "      a file-like object (stream); defaults to the current sys.stdout.\n",
      "    flush\n",
      "      whether to forcibly flush the stream.\n",
      "\n"
     ]
    }
   ],
   "source": [
    "help(print)"
   ]
  },
  {
   "cell_type": "code",
   "execution_count": 88,
   "id": "ba209527",
   "metadata": {},
   "outputs": [
    {
     "data": {
      "text/plain": [
       "['ArithmeticError',\n",
       " 'AssertionError',\n",
       " 'AttributeError',\n",
       " 'BaseException',\n",
       " 'BaseExceptionGroup',\n",
       " 'BlockingIOError',\n",
       " 'BrokenPipeError',\n",
       " 'BufferError',\n",
       " 'BytesWarning',\n",
       " 'ChildProcessError',\n",
       " 'ConnectionAbortedError',\n",
       " 'ConnectionError',\n",
       " 'ConnectionRefusedError',\n",
       " 'ConnectionResetError',\n",
       " 'DeprecationWarning',\n",
       " 'EOFError',\n",
       " 'Ellipsis',\n",
       " 'EncodingWarning',\n",
       " 'EnvironmentError',\n",
       " 'Exception',\n",
       " 'ExceptionGroup',\n",
       " 'False',\n",
       " 'FileExistsError',\n",
       " 'FileNotFoundError',\n",
       " 'FloatingPointError',\n",
       " 'FutureWarning',\n",
       " 'GeneratorExit',\n",
       " 'IOError',\n",
       " 'ImportError',\n",
       " 'ImportWarning',\n",
       " 'IndentationError',\n",
       " 'IndexError',\n",
       " 'InterruptedError',\n",
       " 'IsADirectoryError',\n",
       " 'KeyError',\n",
       " 'KeyboardInterrupt',\n",
       " 'LookupError',\n",
       " 'MemoryError',\n",
       " 'ModuleNotFoundError',\n",
       " 'NameError',\n",
       " 'None',\n",
       " 'NotADirectoryError',\n",
       " 'NotImplemented',\n",
       " 'NotImplementedError',\n",
       " 'OSError',\n",
       " 'OverflowError',\n",
       " 'PendingDeprecationWarning',\n",
       " 'PermissionError',\n",
       " 'ProcessLookupError',\n",
       " 'RecursionError',\n",
       " 'ReferenceError',\n",
       " 'ResourceWarning',\n",
       " 'RuntimeError',\n",
       " 'RuntimeWarning',\n",
       " 'StopAsyncIteration',\n",
       " 'StopIteration',\n",
       " 'SyntaxError',\n",
       " 'SyntaxWarning',\n",
       " 'SystemError',\n",
       " 'SystemExit',\n",
       " 'TabError',\n",
       " 'TimeoutError',\n",
       " 'True',\n",
       " 'TypeError',\n",
       " 'UnboundLocalError',\n",
       " 'UnicodeDecodeError',\n",
       " 'UnicodeEncodeError',\n",
       " 'UnicodeError',\n",
       " 'UnicodeTranslateError',\n",
       " 'UnicodeWarning',\n",
       " 'UserWarning',\n",
       " 'ValueError',\n",
       " 'Warning',\n",
       " 'ZeroDivisionError',\n",
       " '__IPYTHON__',\n",
       " '__build_class__',\n",
       " '__debug__',\n",
       " '__doc__',\n",
       " '__import__',\n",
       " '__loader__',\n",
       " '__name__',\n",
       " '__package__',\n",
       " '__spec__',\n",
       " 'abs',\n",
       " 'aiter',\n",
       " 'all',\n",
       " 'anext',\n",
       " 'any',\n",
       " 'ascii',\n",
       " 'bin',\n",
       " 'bool',\n",
       " 'breakpoint',\n",
       " 'bytearray',\n",
       " 'bytes',\n",
       " 'callable',\n",
       " 'chr',\n",
       " 'classmethod',\n",
       " 'compile',\n",
       " 'complex',\n",
       " 'copyright',\n",
       " 'credits',\n",
       " 'delattr',\n",
       " 'dict',\n",
       " 'dir',\n",
       " 'display',\n",
       " 'divmod',\n",
       " 'enumerate',\n",
       " 'eval',\n",
       " 'exec',\n",
       " 'execfile',\n",
       " 'filter',\n",
       " 'float',\n",
       " 'format',\n",
       " 'frozenset',\n",
       " 'get_ipython',\n",
       " 'getattr',\n",
       " 'globals',\n",
       " 'hasattr',\n",
       " 'hash',\n",
       " 'help',\n",
       " 'hex',\n",
       " 'id',\n",
       " 'input',\n",
       " 'int',\n",
       " 'isinstance',\n",
       " 'issubclass',\n",
       " 'iter',\n",
       " 'len',\n",
       " 'license',\n",
       " 'list',\n",
       " 'locals',\n",
       " 'map',\n",
       " 'max',\n",
       " 'memoryview',\n",
       " 'min',\n",
       " 'next',\n",
       " 'object',\n",
       " 'oct',\n",
       " 'open',\n",
       " 'ord',\n",
       " 'pow',\n",
       " 'print',\n",
       " 'property',\n",
       " 'range',\n",
       " 'repr',\n",
       " 'reversed',\n",
       " 'round',\n",
       " 'runfile',\n",
       " 'set',\n",
       " 'setattr',\n",
       " 'slice',\n",
       " 'sorted',\n",
       " 'staticmethod',\n",
       " 'str',\n",
       " 'sum',\n",
       " 'super',\n",
       " 'tuple',\n",
       " 'type',\n",
       " 'vars',\n",
       " 'zip']"
      ]
     },
     "execution_count": 88,
     "metadata": {},
     "output_type": "execute_result"
    }
   ],
   "source": [
    "dir(builtins)"
   ]
  },
  {
   "cell_type": "markdown",
   "id": "3a4a56ae",
   "metadata": {},
   "source": [
    "## Función type()"
   ]
  },
  {
   "cell_type": "code",
   "execution_count": 90,
   "id": "50285310",
   "metadata": {},
   "outputs": [
    {
     "name": "stdout",
     "output_type": "stream",
     "text": [
      "570\n"
     ]
    }
   ],
   "source": [
    "my_number=570\n",
    "print(my_number)"
   ]
  },
  {
   "cell_type": "code",
   "execution_count": 92,
   "id": "ca231ba2",
   "metadata": {},
   "outputs": [
    {
     "name": "stdout",
     "output_type": "stream",
     "text": [
      "570\n",
      "<class 'int'>\n"
     ]
    }
   ],
   "source": [
    "# Entero / int\n",
    "my_number=570\n",
    "print(my_number)\n",
    "print(type(my_number))"
   ]
  },
  {
   "cell_type": "code",
   "execution_count": 94,
   "id": "91661091",
   "metadata": {},
   "outputs": [
    {
     "name": "stdout",
     "output_type": "stream",
     "text": [
      "Backend Python\n",
      "<class 'str'>\n"
     ]
    }
   ],
   "source": [
    "# Cadenas / string\n",
    "my_string= \"Backend Python\"\n",
    "print(my_string)\n",
    "print(type(my_string))"
   ]
  },
  {
   "cell_type": "code",
   "execution_count": 96,
   "id": "c4b7d47b",
   "metadata": {},
   "outputs": [
    {
     "name": "stdout",
     "output_type": "stream",
     "text": [
      "3.97\n",
      "<class 'float'>\n"
     ]
    }
   ],
   "source": [
    "# Flotantes / float\n",
    "my_float= 3.97\n",
    "print(my_float)\n",
    "print(type(my_float))"
   ]
  },
  {
   "cell_type": "code",
   "execution_count": 98,
   "id": "7bf99025",
   "metadata": {},
   "outputs": [
    {
     "name": "stdout",
     "output_type": "stream",
     "text": [
      "\n",
      "<class 'str'>\n"
     ]
    }
   ],
   "source": [
    "# Cadenas / string\n",
    "my_string= \"\"\n",
    "print(my_string)\n",
    "print(type(my_string))"
   ]
  },
  {
   "cell_type": "code",
   "execution_count": 100,
   "id": "78986488",
   "metadata": {},
   "outputs": [
    {
     "name": "stdout",
     "output_type": "stream",
     "text": [
      "True\n",
      "<class 'bool'>\n"
     ]
    }
   ],
   "source": [
    "# Boolean\n",
    "my_boolean = True\n",
    "print(my_boolean)\n",
    "print(type(my_boolean))"
   ]
  },
  {
   "cell_type": "code",
   "execution_count": 102,
   "id": "18de2eaf",
   "metadata": {},
   "outputs": [
    {
     "name": "stdout",
     "output_type": "stream",
     "text": [
      "False\n",
      "<class 'bool'>\n"
     ]
    }
   ],
   "source": [
    "# Boolean\n",
    "my_boolean = False\n",
    "print(my_boolean)\n",
    "print(type(my_boolean))"
   ]
  },
  {
   "cell_type": "code",
   "execution_count": 104,
   "id": "b9aa7ce8",
   "metadata": {},
   "outputs": [
    {
     "name": "stdout",
     "output_type": "stream",
     "text": [
      "False\n",
      "<class 'str'>\n"
     ]
    }
   ],
   "source": [
    "# Cadena / string\n",
    "my_string= \"False\"\n",
    "print(my_string)\n",
    "print(type(my_string))"
   ]
  },
  {
   "cell_type": "code",
   "execution_count": 106,
   "id": "948ee2be",
   "metadata": {},
   "outputs": [
    {
     "name": "stdout",
     "output_type": "stream",
     "text": [
      "[1, 7, 4, 2]\n",
      "<class 'list'>\n"
     ]
    }
   ],
   "source": [
    "# Listas / list\n",
    "my_list=[1,7,4,2]\n",
    "print(my_list)\n",
    "print(type(my_list))"
   ]
  },
  {
   "cell_type": "code",
   "execution_count": 108,
   "id": "9b4e94c9",
   "metadata": {},
   "outputs": [
    {
     "name": "stdout",
     "output_type": "stream",
     "text": [
      "(3, 8, 2, 5)\n",
      "<class 'tuple'>\n"
     ]
    }
   ],
   "source": [
    "# Tuplas / tuple\n",
    "my_tuple = (3,8,2,5)\n",
    "print(my_tuple)\n",
    "print(type(my_tuple))"
   ]
  },
  {
   "cell_type": "code",
   "execution_count": 111,
   "id": "0f0d4a51",
   "metadata": {},
   "outputs": [
    {
     "name": "stdout",
     "output_type": "stream",
     "text": [
      "{1, 2.5, 'Python', 4}\n",
      "<class 'set'>\n"
     ]
    }
   ],
   "source": [
    "# Set\n",
    "my_set = {4,1,\"Python\",2.5}\n",
    "print(my_set)\n",
    "print(type(my_set))"
   ]
  },
  {
   "cell_type": "code",
   "execution_count": 113,
   "id": "337a4f39",
   "metadata": {},
   "outputs": [
    {
     "name": "stdout",
     "output_type": "stream",
     "text": [
      "{'a': 20, 'b': 50, 'c': 35}\n",
      "<class 'dict'>\n"
     ]
    }
   ],
   "source": [
    "# Diccionarios / dict\n",
    "my_dictionary = {\"a\":20, \"b\":50, \"c\":35}\n",
    "print(my_dictionary)\n",
    "print(type(my_dictionary))"
   ]
  },
  {
   "cell_type": "markdown",
   "id": "4746e721",
   "metadata": {},
   "source": [
    "## Función id()"
   ]
  },
  {
   "cell_type": "markdown",
   "id": "f5ec4da3",
   "metadata": {},
   "source": [
    "# id() función para obterner la dirección de memoria"
   ]
  },
  {
   "cell_type": "code",
   "execution_count": 115,
   "id": "bed19922",
   "metadata": {},
   "outputs": [
    {
     "name": "stdout",
     "output_type": "stream",
     "text": [
      "Python\n",
      "<class 'str'>\n",
      "4336378856\n"
     ]
    }
   ],
   "source": [
    "# Cadena / string\n",
    "my_string= \"Python\"\n",
    "print(my_string)\n",
    "print(type(my_string))\n",
    "print(id(my_string))"
   ]
  },
  {
   "cell_type": "code",
   "execution_count": 117,
   "id": "def4e0ea",
   "metadata": {},
   "outputs": [
    {
     "name": "stdout",
     "output_type": "stream",
     "text": [
      "Backend\n",
      "<class 'str'>\n",
      "4602299760\n"
     ]
    }
   ],
   "source": [
    "# Cadena / string\n",
    "my_string2= \"Backend\"\n",
    "print(my_string2)\n",
    "print(type(my_string2))\n",
    "print(id(my_string2))"
   ]
  },
  {
   "cell_type": "code",
   "execution_count": 1,
   "id": "88df8629",
   "metadata": {},
   "outputs": [
    {
     "name": "stdout",
     "output_type": "stream",
     "text": [
      "Python\n",
      "Python\n",
      "<class 'str'>\n",
      "<class 'str'>\n",
      "4304724968\n",
      "4304724968\n"
     ]
    }
   ],
   "source": [
    "# Cadena / string\n",
    "my_string= \"Python\"\n",
    "my_string3= \"Python\"\n",
    "print(my_string)\n",
    "print(my_string3)\n",
    "print(type(my_string))\n",
    "print(type(my_string3))\n",
    "print(id(my_string))\n",
    "print(id(my_string3))"
   ]
  },
  {
   "cell_type": "markdown",
   "id": "44edbdb1",
   "metadata": {},
   "source": [
    "## Múltiples Valores de Entrada"
   ]
  },
  {
   "cell_type": "code",
   "execution_count": 3,
   "id": "ad089d89",
   "metadata": {},
   "outputs": [
    {
     "name": "stdout",
     "output_type": "stream",
     "text": [
      "Ingresa el valor de my_number117\n",
      "El valor de my_number es:  117\n"
     ]
    }
   ],
   "source": [
    "my_number = input(\"Ingresa el valor de my_number\")\n",
    "print(\"El valor de my_number es: \", my_number)"
   ]
  },
  {
   "cell_type": "code",
   "execution_count": 5,
   "id": "c2a40fb3",
   "metadata": {},
   "outputs": [
    {
     "name": "stdout",
     "output_type": "stream",
     "text": [
      "Ingresa los tres valores: 100 200 300\n",
      "El valor de a es:  100\n",
      "El valor de b es:  200\n",
      "El valor de c es:  300\n"
     ]
    }
   ],
   "source": [
    "a,b,c = input(\"Ingresa los tres valores: \").split()\n",
    "print(\"El valor de a es: \",a)\n",
    "print(\"El valor de b es: \",b)\n",
    "print(\"El valor de c es: \",c)"
   ]
  },
  {
   "cell_type": "code",
   "execution_count": 6,
   "id": "eacdf56a",
   "metadata": {},
   "outputs": [
    {
     "name": "stdout",
     "output_type": "stream",
     "text": [
      "Ingresa los tres valores separados por coma: 500,600,700\n",
      "El valor de a es:  500\n",
      "El valor de b es:  600\n",
      "El valor de c es:  700\n"
     ]
    }
   ],
   "source": [
    "a,b,c = input(\"Ingresa los tres valores separados por coma: \").split(\",\")\n",
    "print(\"El valor de a es: \",a)\n",
    "print(\"El valor de b es: \",b)\n",
    "print(\"El valor de c es: \",c)"
   ]
  },
  {
   "cell_type": "code",
   "execution_count": null,
   "id": "d1fa263c",
   "metadata": {},
   "outputs": [],
   "source": [
    "a,b,c = input(\"Ingresa los tres valores separados por coma: \").split(\",\")\n",
    "print(\"El valor de a es: \",a)\n",
    "print(\"El valor de b es: \",b)\n",
    "print(\"El valor de c es: \",c)"
   ]
  }
 ],
 "metadata": {
  "kernelspec": {
   "display_name": "Python 3 (ipykernel)",
   "language": "python",
   "name": "python3"
  },
  "language_info": {
   "codemirror_mode": {
    "name": "ipython",
    "version": 3
   },
   "file_extension": ".py",
   "mimetype": "text/x-python",
   "name": "python",
   "nbconvert_exporter": "python",
   "pygments_lexer": "ipython3",
   "version": "3.11.5"
  }
 },
 "nbformat": 4,
 "nbformat_minor": 5
}
